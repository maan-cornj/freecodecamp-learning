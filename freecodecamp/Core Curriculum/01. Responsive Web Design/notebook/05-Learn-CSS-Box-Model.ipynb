{
 "cells": [
  {
   "cell_type": "markdown",
   "metadata": {},
   "source": [
    "# **Learn CSS Box Model**\n",
    "> from: <a href=\"https://www.freecodecamp.org/learn/2022/responsive-web-design/learn-the-css-box-model-by-building-a-rothko-painting/\">FreeCodeCamp - Responsive Web Design - Learn CSS Box Model by building a Rothko Painting</a> "
   ]
  },
  {
   "cell_type": "markdown",
   "metadata": {},
   "source": [
    "<div class=\"alert alert-block alert-info\">\n",
    "<h2><b>CSS Box Model</b></h2> \n",
    "</div>\n",
    "\n",
    "<img\n",
    "      src=\"https://cdn.freecodecamp.org/curriculum/css-box-model/diagram-3.png\"\n",
    "      alt=\"\"\n",
    "    />\n",
    "\n",
    "## **`content`**\n",
    "- the item in the box\n",
    "- a header, paragraph, or an image element\n",
    "\n",
    "## **`padding`**\n",
    "- surrounds the content\n",
    "- space around the content\n",
    "\n",
    "## **`border`**\n",
    "- contains the padding and the content\n",
    "\n",
    "## **`margin`**\n",
    "- area outside the box\n",
    "- can be used to control spaces between other boxes or elements\n",
    "\n",
    "\n",
    "\n"
   ]
  },
  {
   "cell_type": "markdown",
   "metadata": {},
   "source": [
    "<div class=\"alert alert-block alert-info\">\n",
    "<h2><b>CSS Properties</b></h2> \n",
    "</div>\n",
    "\n",
    "### `overflow`\n",
    "`overflow\n",
    "-"
   ]
  }
 ],
 "metadata": {
  "language_info": {
   "name": "python"
  }
 },
 "nbformat": 4,
 "nbformat_minor": 2
}
