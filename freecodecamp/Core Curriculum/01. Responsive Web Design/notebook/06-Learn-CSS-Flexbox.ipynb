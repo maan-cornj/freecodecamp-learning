{
 "cells": [
  {
   "cell_type": "markdown",
   "metadata": {},
   "source": [
    "# **Learn CSS Flexbox**\n",
    "> from: <a href=\"https://www.freecodecamp.org/learn/2022/responsive-web-design/learn-css-flexbox-by-building-a-photo-gallery/\">FreeCodeCamp - Responsive Web Design - Learn CSS Flexbox by building a Photo Gallery</a> "
   ]
  },
  {
   "cell_type": "markdown",
   "metadata": {},
   "source": [
    "<div class=\"alert alert-block alert-info\">\n",
    "<h3><b>CSS Properties</b></h3> \n",
    "</div>\n",
    "\n",
    "### **`box-sizing`**\n",
    "`box-sizing`\n",
    "\n",
    "- defines how the width and height of an element are calculated\n",
    "  **values**\n",
    "    - content-box: default value of the property, it does not include the padding, border, or margin\n",
    "    - border-box: includes the padding and border, the content will shrink to make a room for padding and border\n",
    "\n",
    "### **`text-transform`**\n",
    "`text-transform`\n",
    "- defines the text transformation\n",
    "  **values**\n",
    "  - uppercase: sets the text to uppercase\n",
    "\n",
    "### **`display`**\n",
    "`display`\n",
    "- defines how the elements should be displayed\n",
    "  **values**\n",
    "  - flex: makes the elements flex container\n",
    "\n",
    "### **`flex-direction`**\n",
    "`flex-direction`\n",
    "- defines the direction of the flex container\n",
    "  **values**\n",
    "  - row: default, horizontal axis with flex items from left to right\n",
    "  - row-reverse: horizontal axis with flex items from left to right\n",
    "  - column: vertical axis with flex items from top to bottom\n",
    "  - column: vertical axis with flex items from bottom to top\n",
    "\n",
    "### **`flex-wrap`**\n",
    "`flex-wrap`\n",
    "- determines how flex items behave when the flex container is too small\n",
    "  **values**\n",
    "  - wrap: allow items to wrap to the next row or column\n",
    "  - nowrap: default, will prevent your items from wrapping and shrink them if needed"
   ]
  },
  {
   "cell_type": "markdown",
   "metadata": {},
   "source": [
    "<div class=\"alert alert-block alert-info\">\n",
    "<h3><b>Terminologies</b></h3> \n",
    "</div>\n",
    "<table>\n",
    "    <tr>\n",
    "    <th>Terms</th>\n",
    "    <th>Definition</th>\n",
    "    </tr>\n",
    "    <tr>\n",
    "    <td>Flex item (vh)</td>\n",
    "    <td>Any children of a flex container</td>\n",
    "    </tr>\n",
    "\n",
    "</table>"
   ]
  }
 ],
 "metadata": {
  "language_info": {
   "name": "python"
  }
 },
 "nbformat": 4,
 "nbformat_minor": 2
}
