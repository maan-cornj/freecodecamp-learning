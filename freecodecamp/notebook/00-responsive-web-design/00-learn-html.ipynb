{
 "cells": [
  {
   "cell_type": "markdown",
   "metadata": {},
   "source": [
    "# **Learn HTML**\n",
    "> from: <a href=\"https://www.freecodecamp.org/learn/2022/responsive-web-design\">FreeCodeCamp - Responsive Web Design</a> "
   ]
  },
  {
   "cell_type": "markdown",
   "metadata": {},
   "source": [
    "<div class=\"alert alert-block alert-info\">\n",
    "<h2><b>HTML Elements</b></h2> \n",
    "</div>"
   ]
  },
  {
   "cell_type": "markdown",
   "metadata": {},
   "source": [
    "### **`<!DOCTYPE html>`**\n",
    "- tells the browser that the document is an html document<br>\n",
    "- first line of the html document\n",
    "\n",
    "### **`html`** \n",
    "`<html>`\n",
    "\n",
    "- root element of the html document\n",
    "\n",
    "   **attribute(s):**\n",
    "   - lang: defines the language used in the document\n",
    "\n",
    "### **`head`**\n",
    "`<head>`\n",
    "- a container for a data about the HTML Document\n",
    "\n",
    "### **`title`** \n",
    "`<title>`\n",
    "- defines the title of the HTML document\n",
    "\n",
    "### **`meta`**\n",
    " `<meta>`\n",
    "- sets the browser behavior\n",
    "- included in the head section of the document\n",
    "    \n",
    "   **attribute(s):**\n",
    "   - charset: tells the browser how to encode the character of the page\n",
    "\n",
    "### **`body`** \n",
    "`<body>`\n",
    "- a container for the content of the webpage\n",
    "\n",
    "### **`header`** \n",
    "`<header>`\n",
    "- contains the introductory elements of the webpage\n",
    "\n",
    "### **`main`** \n",
    "`<main>`\n",
    "\n",
    "- used to represent the main content of the body of an HTML document.\n",
    "- for SEO and accessibility\n",
    "\n",
    "### **`footer`** \n",
    "`<footer>`\n",
    "- used to define footer for a documents\n",
    "- usually contains information about the author of the document, copyright data, links to term of use, contact infomation, and more.\n"
   ]
  },
  {
   "cell_type": "markdown",
   "metadata": {
    "tags": [
     "html"
    ]
   },
   "source": [
    "### **`heading`**\n",
    "`<h1>` `<h2>` `<h3>` `<h4>` `<h5>` `<h6>`\n",
    "\n",
    "- defines the heading\n",
    "- serves as a title or subtitle for a content in an HTML document"
   ]
  },
  {
   "cell_type": "code",
   "execution_count": 1,
   "metadata": {},
   "outputs": [
    {
     "data": {
      "text/html": [
       "\n",
       "<!-- This is a header element -->\n",
       "\n",
       "<h1>This is an h1 element.</h1>\n",
       "<h2>This is an h2 element.</h2>\n",
       "<h3>This is an h3 element.</h3>\n",
       "<h4>This is an h4 element.</h4>\n",
       "<h5>This is an h5 element.</h5>\n",
       "<h6>This is an h6 element.</h6>\n"
      ],
      "text/plain": [
       "<IPython.core.display.HTML object>"
      ]
     },
     "metadata": {},
     "output_type": "display_data"
    }
   ],
   "source": [
    "%%HTML\n",
    "<h1>This is an h1 element.</h1>\n",
    "<h2>This is an h2 element.</h2>\n",
    "<h3>This is an h3 element.</h3>\n",
    "<h4>This is an h4 element.</h4>\n",
    "<h5>This is an h5 element.</h5>\n",
    "<h6>This is an h6 element.</h6>"
   ]
  },
  {
   "cell_type": "markdown",
   "metadata": {},
   "source": []
  },
  {
   "cell_type": "markdown",
   "metadata": {},
   "source": [
    "### **`paragraph`**\n",
    "`<p>`\n",
    "- defines paragraph\n",
    "- contains text"
   ]
  },
  {
   "cell_type": "code",
   "execution_count": 47,
   "metadata": {
    "vscode": {
     "languageId": "html"
    }
   },
   "outputs": [
    {
     "data": {
      "text/html": [
       "\n",
       "<p>This is a paragraph.</p>\n"
      ],
      "text/plain": [
       "<IPython.core.display.HTML object>"
      ]
     },
     "metadata": {},
     "output_type": "display_data"
    }
   ],
   "source": [
    "%%HTML\n",
    "<p>This is a paragraph.</p>"
   ]
  },
  {
   "cell_type": "markdown",
   "metadata": {},
   "source": [
    "---"
   ]
  },
  {
   "cell_type": "markdown",
   "metadata": {},
   "source": []
  },
  {
   "cell_type": "code",
   "execution_count": 48,
   "metadata": {
    "vscode": {
     "languageId": "html"
    }
   },
   "outputs": [
    {
     "data": {
      "text/html": [
       "\n",
       "<main>\n",
       "    <h1>This is h1 element is enclosed in a main element.</h1>\n",
       "</main>\n"
      ],
      "text/plain": [
       "<IPython.core.display.HTML object>"
      ]
     },
     "metadata": {},
     "output_type": "display_data"
    }
   ],
   "source": [
    "%%HTML\n",
    "\n",
    "<main>\n",
    "    <h1>This is h1 element is enclosed in a main element.</h1>\n",
    "</main>"
   ]
  },
  {
   "cell_type": "markdown",
   "metadata": {},
   "source": [
    "---"
   ]
  },
  {
   "cell_type": "markdown",
   "metadata": {},
   "source": [
    "### **`image`**\n",
    "`<img>`\n",
    "\n",
    "- this element is for adding image in the HTML Document\n",
    "\n",
    "   **attributes:**\n",
    "   - src : the location of the image\n",
    "   - alt : used for screen readers for improved accessibility, describes the image\n",
    "        "
   ]
  },
  {
   "cell_type": "code",
   "execution_count": 49,
   "metadata": {
    "vscode": {
     "languageId": "html"
    }
   },
   "outputs": [
    {
     "data": {
      "text/html": [
       "<img src=\"https://cdn.freecodecamp.org/curriculum/cat-photo-app/relaxing-cat.jpg\" alt=\"A cute orange cat lying on the ground\">\n"
      ],
      "text/plain": [
       "<IPython.core.display.HTML object>"
      ]
     },
     "metadata": {},
     "output_type": "display_data"
    }
   ],
   "source": [
    "%%HTML\n",
    "<img src=\"https://cdn.freecodecamp.org/curriculum/cat-photo-app/relaxing-cat.jpg\" alt=\"A cute orange cat lying on the ground\">"
   ]
  },
  {
   "cell_type": "markdown",
   "metadata": {},
   "source": [
    "---"
   ]
  },
  {
   "cell_type": "markdown",
   "metadata": {},
   "source": [
    "### **`Anchor` element**\n",
    "`<a>`\n",
    "\n",
    "- create links\n",
    "- connects webpages\n",
    "\n",
    "   **attributes:**\n",
    "   - href: a url, a hyperytext reference\n",
    "   - target: opens a link in new tab\n",
    "   "
   ]
  },
  {
   "cell_type": "code",
   "execution_count": 50,
   "metadata": {
    "vscode": {
     "languageId": "html"
    }
   },
   "outputs": [
    {
     "data": {
      "text/html": [
       "\n",
       "<a href=\"https://freecatphotoapp.com\">This is a link.</a>\n"
      ],
      "text/plain": [
       "<IPython.core.display.HTML object>"
      ]
     },
     "metadata": {},
     "output_type": "display_data"
    }
   ],
   "source": [
    "%%HTML\n",
    "<a href=\"https://freecatphotoapp.com\">This is a link.</a>"
   ]
  },
  {
   "cell_type": "markdown",
   "metadata": {},
   "source": [
    "---"
   ]
  },
  {
   "cell_type": "markdown",
   "metadata": {},
   "source": [
    "### **`Section` element**\n",
    "`<section>`\n",
    "- used to define sections in a document\n",
    "- for SEO and accessibility\n",
    "   "
   ]
  },
  {
   "cell_type": "code",
   "execution_count": 51,
   "metadata": {
    "vscode": {
     "languageId": "html"
    }
   },
   "outputs": [
    {
     "data": {
      "text/html": [
       "\n",
       "<section>\n",
       "    <h2>This is a section's h2 element</h2>\n",
       "    <p>This is a section's p element</p>\n",
       "</section>\n"
      ],
      "text/plain": [
       "<IPython.core.display.HTML object>"
      ]
     },
     "metadata": {},
     "output_type": "display_data"
    }
   ],
   "source": [
    "%%HTML\n",
    "\n",
    "<section>\n",
    "    <h2>This is a section's h2 element</h2>\n",
    "    <p>This is a section's p element</p>\n",
    "</section>"
   ]
  },
  {
   "cell_type": "markdown",
   "metadata": {},
   "source": [
    "### **`unordered list`**\n",
    "`<ul>`\n",
    "- each item is marked by a dot\n",
    "\n",
    "### **`ordered list`**\n",
    "`<ol>`\n",
    "- each item is marked by a number\n",
    "\n",
    "### **`list`**\n",
    "`<li>`\n",
    "- defined inside unordered or ordered list\n",
    "- creates an item"
   ]
  },
  {
   "cell_type": "code",
   "execution_count": 2,
   "metadata": {
    "vscode": {
     "languageId": "html"
    }
   },
   "outputs": [
    {
     "data": {
      "text/html": [
       "\n",
       "<ul>\n",
       "    <li>This is an unordered list item</li>\n",
       "</ul>\n",
       "<ol>\n",
       "    <li>This is an unordered list item</li>\n",
       "</ol>\n"
      ],
      "text/plain": [
       "<IPython.core.display.HTML object>"
      ]
     },
     "metadata": {},
     "output_type": "display_data"
    }
   ],
   "source": [
    "%%HTML\n",
    "\n",
    "<ul>\n",
    "    <li>This is an unordered list item</li>\n",
    "</ul>\n",
    "<ol>\n",
    "    <li>This is an ordered list item</li>\n",
    "</ol>"
   ]
  },
  {
   "cell_type": "markdown",
   "metadata": {},
   "source": [
    "---"
   ]
  },
  {
   "cell_type": "markdown",
   "metadata": {},
   "source": [
    "### **`Figure`** element\n",
    "\n",
    "specifies self-contained contained like illustrations, photos, diagrams.\n",
    "\n",
    "- figure\n",
    "\n",
    "### **`Figcaption`** element\n",
    "\n",
    "nested inside a figure element, describes the image or a caption for the image.\n",
    "\n",
    "- figcaption"
   ]
  },
  {
   "cell_type": "code",
   "execution_count": 53,
   "metadata": {
    "vscode": {
     "languageId": "html"
    }
   },
   "outputs": [
    {
     "data": {
      "text/html": [
       "<figure>\n",
       "    <img src=\"https://cdn.freecodecamp.org/curriculum/cat-photo-app/relaxing-cat.jpg\" alt=\"\">\n",
       "    <figcaption>A cute orange cat.</figcaption>\n",
       "</figure>\n"
      ],
      "text/plain": [
       "<IPython.core.display.HTML object>"
      ]
     },
     "metadata": {},
     "output_type": "display_data"
    }
   ],
   "source": [
    "%%HTML\n",
    "<figure>\n",
    "    <img src=\"https://cdn.freecodecamp.org/curriculum/cat-photo-app/relaxing-cat.jpg\" alt=\"\">\n",
    "    <figcaption>A cute orange cat.</figcaption>\n",
    "</figure>"
   ]
  },
  {
   "cell_type": "markdown",
   "metadata": {},
   "source": [
    "---"
   ]
  },
  {
   "cell_type": "markdown",
   "metadata": {},
   "source": [
    "### **`Emphasis`** element\n",
    "\n",
    "shows emphasis in a paragraph element\n",
    "\n",
    "- em\n",
    "\n",
    "### ### **`Strong`** element\n",
    "\n",
    "indicates that some text is of strong importance or urgent\n",
    "\n",
    "- strong"
   ]
  },
  {
   "cell_type": "code",
   "execution_count": 54,
   "metadata": {
    "vscode": {
     "languageId": "html"
    }
   },
   "outputs": [
    {
     "data": {
      "text/html": [
       "\n",
       "<p>This paragraph contains <em>emphasis</em> and <strong>strong</strong> elements</p>\n"
      ],
      "text/plain": [
       "<IPython.core.display.HTML object>"
      ]
     },
     "metadata": {},
     "output_type": "display_data"
    }
   ],
   "source": [
    "%%HTML\n",
    "\n",
    "<p>This paragraph contains <em>emphasis</em> and <strong>strong</strong> elements</p>"
   ]
  },
  {
   "cell_type": "markdown",
   "metadata": {},
   "source": [
    "---"
   ]
  },
  {
   "cell_type": "markdown",
   "metadata": {},
   "source": [
    "### **`Form`** element\n",
    "\n",
    "used to get information from a user\n",
    "\n",
    "- form\n",
    "     \n",
    "    #### **attributes:**\n",
    "   - action: tells the browser that the data should be sent from to a specific path\n",
    "\n",
    "\n",
    "### **`Input`** element\n",
    "\n",
    "allows you to collect several user information\n",
    "\n",
    "- input\n",
    "\n",
    "   #### **attributes:**\n",
    "   - type: defines what type of input element\n",
    "      - radio\n",
    "      - text\n",
    "      - checkbox\n",
    "   - name: defines the name of the input element\n",
    "   - placeholder: a hint about what kind of information is required\n",
    "   - required : sets the input element to be required to avoid empty information\n",
    "   - id: sets a unique id for the input element\n",
    "   - name: group elements with the same name\n",
    "   - value\n",
    "   - checked : for checkbox and radio button, automatically checked or selected by default\n",
    "\n",
    "### **`Button`** element\n",
    "\n",
    "submits the form by default if inside a form.\n",
    "\n",
    "- button\n",
    "\n",
    "   #### **attributes:**\n",
    "   - type: defines what type of button element\n",
    "      - submit\n",
    "\n",
    "\n",
    "### **`Label`** element\n",
    "\n",
    "- label\n",
    "\n",
    "   #### **attributes:**\n",
    "   - for: targets the specific element\n",
    "\n",
    "### **`Fieldset`** element\n",
    "\n",
    "used to group related inputs and labels in a web form.\n",
    "block-level element (appears in new line)\n",
    "\n",
    "- fieldset\n",
    "\n",
    "### **`Legend`** element\n",
    "\n",
    "act as a caption for the content in the fieldset elements\n",
    "\n",
    "- legend\n",
    "\n",
    "\n"
   ]
  },
  {
   "cell_type": "markdown",
   "metadata": {},
   "source": [
    "<div class=\"alert alert-block alert-info\">\n",
    "<h3><b>Terminologies</b></h3> \n",
    "</div>"
   ]
  },
  {
   "cell_type": "markdown",
   "metadata": {},
   "source": [
    "<table>\n",
    "    <tr>\n",
    "    <th>Terms</th>\n",
    "    <th>Definition</th>\n",
    "    </tr>\n",
    "    <tr>\n",
    "    <td>Nesting</td>\n",
    "    <td>putting an element inside an element</td>\n",
    "    </tr>\n",
    "    <tr>\n",
    "    <td>Attributes</td>\n",
    "    <td>used in an opening of an HTML element to control it's behavior</td>\n",
    "    </tr>\n",
    "    <tr>\n",
    "    <td>Block level element</td>\n",
    "    <td>an element that appears in new line</td>\n",
    "    </tr>\n",
    "</table>"
   ]
  }
 ],
 "metadata": {
  "kernelspec": {
   "display_name": "Python 3",
   "language": "python",
   "name": "python3"
  },
  "language_info": {
   "codemirror_mode": {
    "name": "ipython",
    "version": 3
   },
   "file_extension": ".py",
   "mimetype": "text/x-python",
   "name": "python",
   "nbconvert_exporter": "python",
   "pygments_lexer": "ipython3",
   "version": "3.12.3"
  }
 },
 "nbformat": 4,
 "nbformat_minor": 2
}
