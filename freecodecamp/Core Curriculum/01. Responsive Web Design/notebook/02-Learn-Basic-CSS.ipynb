{
 "cells": [
  {
   "cell_type": "markdown",
   "metadata": {},
   "source": [
    "# **Learn Basic CSS**\n",
    "> from: <a href=\"https://www.freecodecamp.org/learn/2022/responsive-web-design/learn-basic-css-by-building-a-cafe-menu/\">FreeCodeCamp - Responsive Web Design - Learn Basic CSS by building a Cafe Menu</a> "
   ]
  },
  {
   "cell_type": "markdown",
   "metadata": {},
   "source": [
    "<div class=\"alert alert-block alert-info\">\n",
    "<h3><b>HTML Elements</b></h3> \n",
    "</div>\n",
    "\n",
    "### **`style`**\n",
    "`<style>`\n",
    "- add design to the webpage\n",
    "- placed inside the head element\n",
    "\n",
    "\n",
    " ### **`link`** \n",
    "`<link>`\n",
    "- links an external resource\n",
    "\n",
    "   **attributes:**\n",
    "   - rel: specifies the relationship between current document and linked resource.\n",
    "   - href: specific location of the external resource\n",
    "\n",
    "### **`meta`** viewport\n",
    " `<meta name=\"viewport\" content=\"width=device-width,initial-scale=1.0\">`\n",
    "- styles the page to look similar on mobile as it does on desktop or laptop\n",
    "\n",
    "\n",
    "### **`div`**\n",
    "`<div>`\n",
    "- an element used for design layout purposes\n",
    "\n",
    "   **attributes:**\n",
    "   - id : unique identifier for an element\n",
    "\n",
    "### **`article`**\n",
    "`<article>`\n",
    "- contains elements that have related information\n",
    "\n",
    "### **`horizontal rule`**\n",
    "`<rule>`\n",
    "- separates sections"
   ]
  },
  {
   "cell_type": "markdown",
   "metadata": {},
   "source": [
    "<div class=\"alert alert-block alert-info\">\n",
    "<h3><b>CSS Basics</b></h3> \n",
    "</div>\n",
    "\n",
    "#### **`Basic Syntax`**\n",
    "element {<br>\n",
    "property: value;<br>\n",
    "}\n",
    "\n",
    "#### **`Multiple selector`**\n",
    "selector1, selector2, selector3{<br>\n",
    "property: value;<br>\n",
    "}\n",
    "\n",
    "### **`CSS Comment`**\n",
    "`/*  */`\n",
    "- leaves a comment in a CSS file"
   ]
  },
  {
   "cell_type": "markdown",
   "metadata": {},
   "source": [
    "<div class=\"alert alert-block alert-info\">\n",
    "<h3><b>Selecting an element</b></h3> \n",
    "</div>\n"
   ]
  },
  {
   "cell_type": "markdown",
   "metadata": {},
   "source": [
    "### **`Element`** selector\n",
    "- targets an HTML element\n"
   ]
  },
  {
   "cell_type": "code",
   "execution_count": 2,
   "metadata": {
    "vscode": {
     "languageId": "html"
    }
   },
   "outputs": [
    {
     "data": {
      "text/html": [
       "<style>\n",
       "h1{\n",
       "    color: brown;\n",
       "}\n",
       "</style>\n",
       "\n",
       "<h1>Coffee</h1>\n"
      ],
      "text/plain": [
       "<IPython.core.display.HTML object>"
      ]
     },
     "metadata": {},
     "output_type": "display_data"
    }
   ],
   "source": [
    "%%HTML\n",
    "<style>\n",
    "h1{\n",
    "    color: brown;\n",
    "}\n",
    "</style>\n",
    "\n",
    "<h1>Coffee</h1>"
   ]
  },
  {
   "cell_type": "markdown",
   "metadata": {},
   "source": [
    "### **`ID`** selector\n",
    "`#id`\n",
    "- targets HTML element through id attribute "
   ]
  },
  {
   "cell_type": "code",
   "execution_count": 4,
   "metadata": {
    "vscode": {
     "languageId": "html"
    }
   },
   "outputs": [
    {
     "data": {
      "text/html": [
       "<style>\n",
       "#title{\n",
       "    color: orange;\n",
       "}\n",
       "</style>\n",
       "\n",
       "<h1 id=\"title\">The Orange Cat</h1>\n"
      ],
      "text/plain": [
       "<IPython.core.display.HTML object>"
      ]
     },
     "metadata": {},
     "output_type": "display_data"
    }
   ],
   "source": [
    "%%HTML\n",
    "<style>\n",
    "#title{\n",
    "    color: orange;\n",
    "}\n",
    "</style>\n",
    "\n",
    "<h1 id=\"title\">The Orange Cat</h1>"
   ]
  },
  {
   "cell_type": "markdown",
   "metadata": {},
   "source": [
    "### **`Class`** selector\n",
    "`.class`\n",
    "- targets HTML element through class attribute \n"
   ]
  },
  {
   "cell_type": "code",
   "execution_count": 7,
   "metadata": {
    "vscode": {
     "languageId": "html"
    }
   },
   "outputs": [
    {
     "data": {
      "text/html": [
       "<style>\n",
       ".title{\n",
       "    color: navy;\n",
       "}\n",
       "</style>\n",
       "\n",
       "<h2 class=\"title\">FreeCodeCamp</h2>\n"
      ],
      "text/plain": [
       "<IPython.core.display.HTML object>"
      ]
     },
     "metadata": {},
     "output_type": "display_data"
    }
   ],
   "source": [
    "%%HTML\n",
    "<style>\n",
    ".title{\n",
    "    color: navy;\n",
    "}\n",
    "</style>\n",
    "\n",
    "<h2 class=\"title\">FreeCodeCamp</h2>"
   ]
  },
  {
   "cell_type": "markdown",
   "metadata": {},
   "source": [
    "### **`Descendant`** selector\n",
    "`.class element`\n",
    "- targets an element that is under the class attribute"
   ]
  },
  {
   "cell_type": "code",
   "execution_count": 1,
   "metadata": {
    "vscode": {
     "languageId": "html"
    }
   },
   "outputs": [
    {
     "data": {
      "text/html": [
       "<style>\n",
       ".col p{\n",
       "    color: gold;\n",
       "}\n",
       "</style>\n",
       "\n",
       "<div class=\"col\">\n",
       "    <h3>Hello</h3>\n",
       "    <p>This is a descendant selector example</p>\n",
       "</div>\n"
      ],
      "text/plain": [
       "<IPython.core.display.HTML object>"
      ]
     },
     "metadata": {},
     "output_type": "display_data"
    }
   ],
   "source": [
    "%%HTML\n",
    "<style>\n",
    ".col p{\n",
    "    color: gold;\n",
    "}\n",
    "</style>\n",
    "\n",
    "<div class=\"col\">\n",
    "    <h3>Hello</h3>\n",
    "    <p>This is a descendant selector example</p>\n",
    "</div>"
   ]
  },
  {
   "cell_type": "markdown",
   "metadata": {},
   "source": [
    "### **`Pseudo`** selector\n",
    "`element:pseudoclass`\n",
    "- targets an element in a particular state"
   ]
  },
  {
   "cell_type": "code",
   "execution_count": null,
   "metadata": {
    "vscode": {
     "languageId": "html"
    }
   },
   "outputs": [],
   "source": [
    "%%HTML\n",
    "<style>\n",
    "button:hover{\n",
    "    color: gold;\n",
    "}\n",
    "</style>\n",
    "\n",
    "<button>Hello</button>"
   ]
  },
  {
   "cell_type": "markdown",
   "metadata": {},
   "source": [
    "<div class=\"alert alert-block alert-info\">\n",
    "<h3><b>CSS Properties</b></h3> \n",
    "</div>\n",
    "\n",
    "### **`text-align`** \n",
    "- sets the text alignment\n",
    "\n",
    "### **`background-color`** \n",
    "- sets background color of the specific element\n",
    "\n",
    "### **`background-image`** \n",
    "- sets the background image of an element \n",
    "\n",
    "### **`width`** \n",
    "- sets the width of the specific element\n",
    "\n",
    "### **`margin`** \n",
    "**`margin-left`** \n",
    "**`margin-right`** \n",
    "- sets the margin of the element\n",
    "- outermost part of the CSS Box Model\n",
    "\n",
    "### **`padding`** \n",
    "**`padding-left`** \n",
    "**`padding-right`** \n",
    "**`padding-top`** \n",
    "**`padding-bottom`** \n",
    "- sets the padding of the element\n",
    "- innermost part of the CSS Box Model, surrounds the content.\n",
    "    \n",
    "### **`max-width`** \n",
    "- defines the maximum width of the element\n",
    "\n",
    "### **`font-family`** \n",
    "- defines the font of the text\n",
    "\n",
    "### **`font-style`** \n",
    "- defines the font style of the text\n",
    "\n",
    "### **`font-size`** \n",
    "- defines the font size of the text\n",
    "\n",
    "\n",
    "### **`height`** \n",
    "- defines the height of an element\n",
    "\n",
    "### **`border-color`** \n",
    "- defines the border color of an element"
   ]
  },
  {
   "cell_type": "markdown",
   "metadata": {},
   "source": [
    "<div class=\"alert alert-block alert-info\">\n",
    "<h3><b>Terminologies</b></h3> \n",
    "</div>"
   ]
  },
  {
   "cell_type": "markdown",
   "metadata": {},
   "source": [
    "<table>\n",
    "    <tr>\n",
    "    <th>Terms</th>\n",
    "    <th>Definition</th>\n",
    "    </tr>\n",
    "    <tr>\n",
    "    <td>Fallback</td>\n",
    "    <td>used in instances where the initial value is not available or not found</td>\n",
    "    </tr>\n",
    "</table>"
   ]
  }
 ],
 "metadata": {
  "kernelspec": {
   "display_name": "Python 3",
   "language": "python",
   "name": "python3"
  },
  "language_info": {
   "codemirror_mode": {
    "name": "ipython",
    "version": 3
   },
   "file_extension": ".py",
   "mimetype": "text/x-python",
   "name": "python",
   "nbconvert_exporter": "python",
   "pygments_lexer": "ipython3",
   "version": "3.12.3"
  }
 },
 "nbformat": 4,
 "nbformat_minor": 2
}
