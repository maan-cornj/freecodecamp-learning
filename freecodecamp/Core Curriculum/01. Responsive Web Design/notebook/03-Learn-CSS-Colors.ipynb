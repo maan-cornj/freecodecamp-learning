{
 "cells": [
  {
   "cell_type": "markdown",
   "metadata": {},
   "source": [
    "# **Learn CSS Colors**\n",
    "> from: <a href=\"https://www.freecodecamp.org/learn/2022/responsive-web-design/learn-css-colors-by-building-a-set-of-colored-markers/\">FreeCodeCamp - Responsive Web Design - Learn CSS Colors by building a set of Colored Markers</a> "
   ]
  },
  {
   "cell_type": "markdown",
   "metadata": {},
   "source": [
    "<div class=\"alert alert-block alert-info\">\n",
    "<h3><b>HTML Attribute</b></h3> \n",
    "</div>\n",
    "\n",
    "### **`Multiple Classes`**\n"
   ]
  },
  {
   "cell_type": "code",
   "execution_count": 1,
   "metadata": {
    "vscode": {
     "languageId": "html"
    }
   },
   "outputs": [
    {
     "data": {
      "text/html": [
       "<style>\n",
       "    .animal{\n",
       "        font-style: italic;\n",
       "    }\n",
       "\n",
       "    .cat{\n",
       "        color: orange;\n",
       "    }\n",
       "\n",
       "    .dog{\n",
       "        background-color: orange;\n",
       "    }\n",
       "\n",
       "</style>\n",
       "<h1 class=\"animal cat\">Meow</h1>\n",
       "<h1 class=\"animal dog\">Arf</h1>\n"
      ],
      "text/plain": [
       "<IPython.core.display.HTML object>"
      ]
     },
     "metadata": {},
     "output_type": "display_data"
    }
   ],
   "source": [
    "%%HTML\n",
    "<style>\n",
    "    .animal{\n",
    "        font-style: italic;\n",
    "    }\n",
    "\n",
    "    .cat{\n",
    "        color: orange;\n",
    "    }\n",
    "\n",
    "    .dog{\n",
    "        background-color: orange;\n",
    "    }\n",
    "\n",
    "</style>\n",
    "<h1 class=\"animal cat\">Meow</h1>\n",
    "<h1 class=\"animal dog\">Arf</h1>"
   ]
  },
  {
   "cell_type": "markdown",
   "metadata": {},
   "source": [
    "<div class=\"alert alert-block alert-info\">\n",
    "<h3><b>CSS Properties</b></h3> \n",
    "</div>\n",
    "\n",
    "### **`margin`**\n",
    "`margin`\n",
    "\n",
    "shorthand property\n",
    "\n",
    "ex: selector{ margin: 10px auto }\n",
    "- 1st value: margin-top and margin-bottom\n",
    "- 2nd value: margin-left and margin-right\n",
    "\n",
    "### **`padding`**\n",
    "`padding`\n",
    "\n",
    "shorthand property\n",
    "\n",
    "ex: selector { padding: 10px 0; }\n",
    "- 1st value: padding-top and padding-bottom\n",
    "- 2nd value: padding-left and padding-right\n",
    "\n",
    "### **`background-color`**\n",
    "`background-color`\n",
    "\n",
    "values:\n",
    "\n",
    "- predefined color \n",
    "- rgb() function\n",
    "    - `rgb(r,g,b)`\n",
    "    - `rgb(r,g,b, alphaValue)`\n",
    "    \n",
    "    - red, green, blue\n",
    "    - each r,g,b values are from 0-255\n",
    "\n",
    "- rgb() function\n",
    "    - `rgba(r,g,b, alphaValue)`\n",
    "    - alpha value is the opacity of the element\n",
    "    - alpha value accept 0 to 100 percents\n",
    "\n",
    "- hexadecimal\n",
    "    - starts with # \n",
    "    - takes 6 characters, from 0-9 and A-F\n",
    "    \n",
    "- hsl() function\n",
    "    - `hsl(h,s,l)`\n",
    "    - hue, saturation, lightness\n",
    "    - hue accepts 0 to 360\n",
    "    - saturation and lightness accepts 0 to 100 percent\n",
    "\n",
    "### **`background`**\n",
    "`background`\n",
    "\n",
    "values:\n",
    "- linear-gradient() function\n",
    "    - consist of gradientDirection and color arguments\n",
    "    - if gradientDirection is not set, it automatically arrange the colors by 180deg \n",
    "\n",
    "### **`opacity`**\n",
    "`opacity`\n",
    "- controls how transparent an element is\n",
    "- 0 or 0% will be compleletly transparent\n",
    "- 1 or 100% will be completely opaque or visible\n",
    "\n",
    "### **`border`**\n",
    "`border-[side]`\n",
    "- a shorthand propery for border \n",
    "- value: width style color\n",
    "\n",
    "`border-width` `border-[side]-width` \n",
    "- defines the width of the border\n",
    "\n",
    "`border-style` `border-[side]-style` \n",
    "- defines the style of the border\n",
    "\n",
    "`border-color` `border-[side]-color` \n",
    "- defines the color of the border\n",
    "\n",
    "### **`box-shadow`**\n",
    "`box-shadow` \n",
    "- value: offsetX offsetY color\n",
    "    - offsetX moves shadow right and a negative value moves to left\n",
    "    - offsetY moves shadow down and a negative value moves to top\n",
    "    - if you need 0 for any or both offset, you don't need to set its value \n",
    "- value: offsetX offsetY blurRadius spreadRadius color\n",
    "    - blurRadius adds blur effect \n",
    "    - spreadrRadius spreads out the reach of the shadow"
   ]
  },
  {
   "cell_type": "markdown",
   "metadata": {},
   "source": [
    "<div class=\"alert alert-block alert-info\">\n",
    "<h3><b>CSS Tips </b></h3> \n",
    "</div>\n",
    "\n",
    "### **`color`**\n",
    "- practice one dominant color, and complementary color as an accent\n",
    "\n",
    "setting opacity \n",
    "- rgb function with alpha channel or opacity element"
   ]
  },
  {
   "cell_type": "markdown",
   "metadata": {},
   "source": [
    "<div class=\"alert alert-block alert-info\">\n",
    "<h3><b>Terminologies</b></h3> \n",
    "</div>"
   ]
  },
  {
   "cell_type": "markdown",
   "metadata": {},
   "source": [
    "<table>\n",
    "    <tr>\n",
    "    <th>Terms</th>\n",
    "    <th>Definition</th>\n",
    "    </tr>\n",
    "    <tr>\n",
    "    <td>Function</td>\n",
    "    <td>piece of code that can take an input and perform specific action</td>\n",
    "    </tr>\n",
    "    <tr>\n",
    "    <td>Color stop</td>\n",
    "    <td>length unit that follow colors for gradient funtions</td>\n",
    "    </tr>\n",
    "    <tr>\n",
    "    <td>Opacity</td>\n",
    "    <td>describes how opaque or non-transparent an object is.</td>\n",
    "    </tr>\n",
    "</table>"
   ]
  }
 ],
 "metadata": {
  "kernelspec": {
   "display_name": "Python 3",
   "language": "python",
   "name": "python3"
  },
  "language_info": {
   "codemirror_mode": {
    "name": "ipython",
    "version": 3
   },
   "file_extension": ".py",
   "mimetype": "text/x-python",
   "name": "python",
   "nbconvert_exporter": "python",
   "pygments_lexer": "ipython3",
   "version": "3.12.3"
  }
 },
 "nbformat": 4,
 "nbformat_minor": 2
}
