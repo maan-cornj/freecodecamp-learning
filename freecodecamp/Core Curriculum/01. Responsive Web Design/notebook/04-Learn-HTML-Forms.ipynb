{
 "cells": [
  {
   "cell_type": "markdown",
   "metadata": {},
   "source": [
    "# **Learn HTML Forms**\n",
    "> from: <a href=\"https://www.freecodecamp.org/learn/2022/responsive-web-design/learn-html-forms-by-building-a-registration-form/\">FreeCodeCamp - Responsive Web Design - Learn HTML Forms by building a Registration Form</a> "
   ]
  },
  {
   "cell_type": "markdown",
   "metadata": {},
   "source": [
    "<div class=\"alert alert-block alert-info\">\n",
    "<h2><b>HTML Elements</b></h2> \n",
    "</div>\n",
    "\n",
    "## **`input`**\n",
    "`<input>`\n",
    "- allows you to collect several user information\n",
    "\n",
    "   **attributes:**\n",
    "   - type: defines what type of input element\n",
    "      - radio\n",
    "      - text\n",
    "      - checkbox\n",
    "      - password\n",
    "      - file\n",
    "      - number\n",
    "   - name: defines the name of the input element\n",
    "   - placeholder: a hint about what kind of information is required\n",
    "   - required : sets the input element to be required to avoid empty information\n",
    "   - id: sets a unique id for the input element\n",
    "   - name: group elements with the same name\n",
    "   - value: specifies the value\n",
    "   - checked : for checkbox and radio button, automatically checked or selected by default\n",
    "   - minlength : sets the minimum string length the user can input\n",
    "   - pattern: defines regular expression that an input's value must match\n",
    "   - min : sets minimum value  \n",
    "   - max : sets maximum value\n",
    "\n",
    "## **`select`**\n",
    "`<select>`\n",
    "- allows you to collect several user information\n",
    "- container for a group of `option` elements\n",
    "\n",
    "## **`option`**\n",
    "`<option>`\n",
    "- defines an item for a `select` element \n",
    "   **attributes:**\n",
    "   - value: defines value of the option\n",
    "\n",
    "## **`textarea`**\n",
    "`<textarea>`\n",
    "- acts like an `input` element,.but receives multi-line text\n",
    "   **attributes:**\n",
    "   - rows: defines the row\n",
    "   - cols: defines the column\n",
    "   - placeholder: accepts text value which is displayed until user starts typing\n"
   ]
  },
  {
   "cell_type": "markdown",
   "metadata": {},
   "source": [
    "<div class=\"alert alert-block alert-info\">\n",
    "<h2><b>CSS Selectors</b></h2> \n",
    "</div>\n",
    "\n",
    "### **`Attribute`** selector\n",
    "`element[attribute=value]`\n",
    "- selects an element based on the given attribute value\n",
    "\n",
    "\n",
    "\n"
   ]
  },
  {
   "cell_type": "code",
   "execution_count": 3,
   "metadata": {
    "vscode": {
     "languageId": "html"
    }
   },
   "outputs": [
    {
     "data": {
      "text/html": [
       "<style>\n",
       "    h1[name=\"title1\"]{\n",
       "        font-size: 0.5em;\n",
       "    }\n",
       "</style>\n",
       "\n",
       "<h1 name=\"title1\">This is title 1.</h1>\n",
       "<h1 name=\"title2\">This is title 2.</h1>\n"
      ],
      "text/plain": [
       "<IPython.core.display.HTML object>"
      ]
     },
     "metadata": {},
     "output_type": "display_data"
    }
   ],
   "source": [
    "%%HTML\n",
    "<style>\n",
    "    h1[name=\"title1\"]{\n",
    "        font-size: 1rem;\n",
    "    }\n",
    "</style>\n",
    "\n",
    "<h1 name=\"title1\">This is title 1.</h1>\n",
    "<h1 name=\"title2\">This is title 2.</h1>"
   ]
  },
  {
   "cell_type": "markdown",
   "metadata": {},
   "source": [
    "<div class=\"alert alert-block alert-info\">\n",
    "<h2><b>Terminologies</b></h2> \n",
    "</div>"
   ]
  },
  {
   "cell_type": "markdown",
   "metadata": {},
   "source": [
    "<table>\n",
    "    <tr>\n",
    "    <th>Terms</th>\n",
    "    <th>Definition</th>\n",
    "    </tr>\n",
    "    <tr>\n",
    "    <td>Viewport Height (vh)</td>\n",
    "    <td>unit equal to 1% of the height of the viewport</td>\n",
    "    </tr>\n",
    "    <tr>\n",
    "    <td>Root Em (rem)</td>\n",
    "    <td>a unit relative to the font size of the html element</td>\n",
    "    </tr>\n",
    "</table>"
   ]
  }
 ],
 "metadata": {
  "kernelspec": {
   "display_name": "Python 3",
   "language": "python",
   "name": "python3"
  },
  "language_info": {
   "codemirror_mode": {
    "name": "ipython",
    "version": 3
   },
   "file_extension": ".py",
   "mimetype": "text/x-python",
   "name": "python",
   "nbconvert_exporter": "python",
   "pygments_lexer": "ipython3",
   "version": "3.12.3"
  }
 },
 "nbformat": 4,
 "nbformat_minor": 2
}
